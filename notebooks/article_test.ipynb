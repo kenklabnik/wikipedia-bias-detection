{
 "cells": [
  {
   "cell_type": "markdown",
   "id": "b99d7e2b",
   "metadata": {},
   "source": [
    "# Premade Model Testing"
   ]
  },
  {
   "cell_type": "markdown",
   "id": "49c82c19",
   "metadata": {},
   "source": [
    "## Setting up functions"
   ]
  },
  {
   "cell_type": "code",
   "execution_count": 33,
   "id": "427fa161",
   "metadata": {},
   "outputs": [],
   "source": [
    "import os"
   ]
  },
  {
   "cell_type": "code",
   "execution_count": 9,
   "id": "88eb07ff",
   "metadata": {},
   "outputs": [
    {
     "name": "stderr",
     "output_type": "stream",
     "text": [
      "huggingface/tokenizers: The current process just got forked, after parallelism has already been used. Disabling parallelism to avoid deadlocks...\n",
      "To disable this warning, you can either:\n",
      "\t- Avoid using `tokenizers` before the fork if possible\n",
      "\t- Explicitly set the environment variable TOKENIZERS_PARALLELISM=(true | false)\n"
     ]
    },
    {
     "name": "stdout",
     "output_type": "stream",
     "text": [
      "Requirement already satisfied: transformers in /Users/betaknight/may_code_pudding/bias-venv/lib/python3.11/site-packages (4.51.3)\n",
      "Collecting datasets\n",
      "  Downloading datasets-3.5.1-py3-none-any.whl.metadata (19 kB)\n",
      "Requirement already satisfied: filelock in /Users/betaknight/may_code_pudding/bias-venv/lib/python3.11/site-packages (from transformers) (3.18.0)\n",
      "Requirement already satisfied: huggingface-hub<1.0,>=0.30.0 in /Users/betaknight/may_code_pudding/bias-venv/lib/python3.11/site-packages (from transformers) (0.30.2)\n",
      "Requirement already satisfied: numpy>=1.17 in /Users/betaknight/may_code_pudding/bias-venv/lib/python3.11/site-packages (from transformers) (2.2.5)\n",
      "Requirement already satisfied: packaging>=20.0 in /Users/betaknight/may_code_pudding/bias-venv/lib/python3.11/site-packages (from transformers) (25.0)\n",
      "Requirement already satisfied: pyyaml>=5.1 in /Users/betaknight/may_code_pudding/bias-venv/lib/python3.11/site-packages (from transformers) (6.0.2)\n",
      "Requirement already satisfied: regex!=2019.12.17 in /Users/betaknight/may_code_pudding/bias-venv/lib/python3.11/site-packages (from transformers) (2024.11.6)\n",
      "Requirement already satisfied: requests in /Users/betaknight/may_code_pudding/bias-venv/lib/python3.11/site-packages (from transformers) (2.32.3)\n",
      "Requirement already satisfied: tokenizers<0.22,>=0.21 in /Users/betaknight/may_code_pudding/bias-venv/lib/python3.11/site-packages (from transformers) (0.21.1)\n",
      "Requirement already satisfied: safetensors>=0.4.3 in /Users/betaknight/may_code_pudding/bias-venv/lib/python3.11/site-packages (from transformers) (0.5.3)\n",
      "Requirement already satisfied: tqdm>=4.27 in /Users/betaknight/may_code_pudding/bias-venv/lib/python3.11/site-packages (from transformers) (4.67.1)\n",
      "Collecting pyarrow>=15.0.0 (from datasets)\n",
      "  Downloading pyarrow-20.0.0-cp311-cp311-macosx_12_0_arm64.whl.metadata (3.3 kB)\n",
      "Collecting dill<0.3.9,>=0.3.0 (from datasets)\n",
      "  Using cached dill-0.3.8-py3-none-any.whl.metadata (10 kB)\n",
      "Requirement already satisfied: pandas in /Users/betaknight/may_code_pudding/bias-venv/lib/python3.11/site-packages (from datasets) (2.2.3)\n",
      "Collecting xxhash (from datasets)\n",
      "  Using cached xxhash-3.5.0-cp311-cp311-macosx_11_0_arm64.whl.metadata (12 kB)\n",
      "Collecting multiprocess<0.70.17 (from datasets)\n",
      "  Using cached multiprocess-0.70.16-py311-none-any.whl.metadata (7.2 kB)\n",
      "Collecting fsspec<=2025.3.0,>=2023.1.0 (from fsspec[http]<=2025.3.0,>=2023.1.0->datasets)\n",
      "  Using cached fsspec-2025.3.0-py3-none-any.whl.metadata (11 kB)\n",
      "Collecting aiohttp (from datasets)\n",
      "  Downloading aiohttp-3.11.18-cp311-cp311-macosx_11_0_arm64.whl.metadata (7.7 kB)\n",
      "Collecting aiohappyeyeballs>=2.3.0 (from aiohttp->datasets)\n",
      "  Using cached aiohappyeyeballs-2.6.1-py3-none-any.whl.metadata (5.9 kB)\n",
      "Collecting aiosignal>=1.1.2 (from aiohttp->datasets)\n",
      "  Using cached aiosignal-1.3.2-py2.py3-none-any.whl.metadata (3.8 kB)\n",
      "Requirement already satisfied: attrs>=17.3.0 in /Users/betaknight/may_code_pudding/bias-venv/lib/python3.11/site-packages (from aiohttp->datasets) (25.3.0)\n",
      "Collecting frozenlist>=1.1.1 (from aiohttp->datasets)\n",
      "  Downloading frozenlist-1.6.0-cp311-cp311-macosx_11_0_arm64.whl.metadata (16 kB)\n",
      "Collecting multidict<7.0,>=4.5 (from aiohttp->datasets)\n",
      "  Downloading multidict-6.4.3-cp311-cp311-macosx_11_0_arm64.whl.metadata (5.3 kB)\n",
      "Collecting propcache>=0.2.0 (from aiohttp->datasets)\n",
      "  Downloading propcache-0.3.1-cp311-cp311-macosx_11_0_arm64.whl.metadata (10 kB)\n",
      "Collecting yarl<2.0,>=1.17.0 (from aiohttp->datasets)\n",
      "  Downloading yarl-1.20.0-cp311-cp311-macosx_11_0_arm64.whl.metadata (72 kB)\n",
      "Requirement already satisfied: typing-extensions>=3.7.4.3 in /Users/betaknight/may_code_pudding/bias-venv/lib/python3.11/site-packages (from huggingface-hub<1.0,>=0.30.0->transformers) (4.13.2)\n",
      "Requirement already satisfied: charset-normalizer<4,>=2 in /Users/betaknight/may_code_pudding/bias-venv/lib/python3.11/site-packages (from requests->transformers) (3.4.1)\n",
      "Requirement already satisfied: idna<4,>=2.5 in /Users/betaknight/may_code_pudding/bias-venv/lib/python3.11/site-packages (from requests->transformers) (3.10)\n",
      "Requirement already satisfied: urllib3<3,>=1.21.1 in /Users/betaknight/may_code_pudding/bias-venv/lib/python3.11/site-packages (from requests->transformers) (2.4.0)\n",
      "Requirement already satisfied: certifi>=2017.4.17 in /Users/betaknight/may_code_pudding/bias-venv/lib/python3.11/site-packages (from requests->transformers) (2025.4.26)\n",
      "Requirement already satisfied: python-dateutil>=2.8.2 in /Users/betaknight/may_code_pudding/bias-venv/lib/python3.11/site-packages (from pandas->datasets) (2.9.0.post0)\n",
      "Requirement already satisfied: pytz>=2020.1 in /Users/betaknight/may_code_pudding/bias-venv/lib/python3.11/site-packages (from pandas->datasets) (2025.2)\n",
      "Requirement already satisfied: tzdata>=2022.7 in /Users/betaknight/may_code_pudding/bias-venv/lib/python3.11/site-packages (from pandas->datasets) (2025.2)\n",
      "Requirement already satisfied: six>=1.5 in /Users/betaknight/may_code_pudding/bias-venv/lib/python3.11/site-packages (from python-dateutil>=2.8.2->pandas->datasets) (1.17.0)\n",
      "Downloading datasets-3.5.1-py3-none-any.whl (491 kB)\n",
      "Using cached dill-0.3.8-py3-none-any.whl (116 kB)\n",
      "Using cached fsspec-2025.3.0-py3-none-any.whl (193 kB)\n",
      "Downloading aiohttp-3.11.18-cp311-cp311-macosx_11_0_arm64.whl (457 kB)\n",
      "Using cached multiprocess-0.70.16-py311-none-any.whl (143 kB)\n",
      "Downloading pyarrow-20.0.0-cp311-cp311-macosx_12_0_arm64.whl (30.9 MB)\n",
      "\u001b[2K   \u001b[90m━━━━━━━━━━━━━━━━━━━━━━━━━━━━━━━━━━━━━━━━\u001b[0m \u001b[32m30.9/30.9 MB\u001b[0m \u001b[31m73.7 MB/s\u001b[0m eta \u001b[36m0:00:00\u001b[0m00:01\u001b[0m00:01\u001b[0m\n",
      "\u001b[?25hUsing cached xxhash-3.5.0-cp311-cp311-macosx_11_0_arm64.whl (30 kB)\n",
      "Using cached aiohappyeyeballs-2.6.1-py3-none-any.whl (15 kB)\n",
      "Using cached aiosignal-1.3.2-py2.py3-none-any.whl (7.6 kB)\n",
      "Downloading frozenlist-1.6.0-cp311-cp311-macosx_11_0_arm64.whl (122 kB)\n",
      "Downloading multidict-6.4.3-cp311-cp311-macosx_11_0_arm64.whl (37 kB)\n",
      "Downloading propcache-0.3.1-cp311-cp311-macosx_11_0_arm64.whl (45 kB)\n",
      "Downloading yarl-1.20.0-cp311-cp311-macosx_11_0_arm64.whl (94 kB)\n",
      "Installing collected packages: xxhash, pyarrow, propcache, multidict, fsspec, frozenlist, dill, aiohappyeyeballs, yarl, multiprocess, aiosignal, aiohttp, datasets\n",
      "  Attempting uninstall: fsspec\n",
      "    Found existing installation: fsspec 2025.3.2\n",
      "    Uninstalling fsspec-2025.3.2:\n",
      "      Successfully uninstalled fsspec-2025.3.2\n",
      "Successfully installed aiohappyeyeballs-2.6.1 aiohttp-3.11.18 aiosignal-1.3.2 datasets-3.5.1 dill-0.3.8 frozenlist-1.6.0 fsspec-2025.3.0 multidict-6.4.3 multiprocess-0.70.16 propcache-0.3.1 pyarrow-20.0.0 xxhash-3.5.0 yarl-1.20.0\n",
      "\n",
      "\u001b[1m[\u001b[0m\u001b[34;49mnotice\u001b[0m\u001b[1;39;49m]\u001b[0m\u001b[39;49m A new release of pip is available: \u001b[0m\u001b[31;49m24.3.1\u001b[0m\u001b[39;49m -> \u001b[0m\u001b[32;49m25.1\u001b[0m\n",
      "\u001b[1m[\u001b[0m\u001b[34;49mnotice\u001b[0m\u001b[1;39;49m]\u001b[0m\u001b[39;49m To update, run: \u001b[0m\u001b[32;49mpip install --upgrade pip\u001b[0m\n",
      "Note: you may need to restart the kernel to use updated packages.\n"
     ]
    }
   ],
   "source": [
    "%pip install transformers datasets"
   ]
  },
  {
   "cell_type": "code",
   "execution_count": 10,
   "id": "3f1be53b",
   "metadata": {},
   "outputs": [
    {
     "name": "stderr",
     "output_type": "stream",
     "text": [
      "[nltk_data] Downloading package punkt to\n",
      "[nltk_data]     /Users/betaknight/nltk_data...\n",
      "[nltk_data]   Package punkt is already up-to-date!\n"
     ]
    },
    {
     "data": {
      "text/plain": [
       "True"
      ]
     },
     "execution_count": 10,
     "metadata": {},
     "output_type": "execute_result"
    }
   ],
   "source": [
    "from transformers import pipeline\n",
    "from datasets import load_dataset\n",
    "import nltk\n",
    "from nltk.tokenize import sent_tokenize\n",
    "\n",
    "nltk.download('punkt')"
   ]
  },
  {
   "cell_type": "code",
   "execution_count": 11,
   "id": "c0ecbe24",
   "metadata": {},
   "outputs": [],
   "source": [
    "import wikipedia\n",
    "\n",
    "wikipedia.set_lang(\"en\")\n",
    "article_text = wikipedia.page(\"Pro-life\").content"
   ]
  },
  {
   "cell_type": "code",
   "execution_count": 12,
   "id": "9d1996f9",
   "metadata": {},
   "outputs": [
    {
     "name": "stdout",
     "output_type": "stream",
     "text": [
      "Total sentences: 55\n"
     ]
    }
   ],
   "source": [
    "sentences = sent_tokenize(article_text)\n",
    "print(f\"Total sentences: {len(sentences)}\")"
   ]
  },
  {
   "cell_type": "code",
   "execution_count": 13,
   "id": "5b9b89d8",
   "metadata": {},
   "outputs": [
    {
     "name": "stderr",
     "output_type": "stream",
     "text": [
      "Device set to use mps:0\n"
     ]
    },
    {
     "data": {
      "application/vnd.jupyter.widget-view+json": {
       "model_id": "5fefbc1f1caf4c2eb7c3de51aa1f786f",
       "version_major": 2,
       "version_minor": 0
      },
      "text/plain": [
       "config.json:   0%|          | 0.00/921 [00:00<?, ?B/s]"
      ]
     },
     "metadata": {},
     "output_type": "display_data"
    },
    {
     "data": {
      "application/vnd.jupyter.widget-view+json": {
       "model_id": "5ca70d51eb6c45a48c4040824de3465c",
       "version_major": 2,
       "version_minor": 0
      },
      "text/plain": [
       "pytorch_model.bin:   0%|          | 0.00/438M [00:00<?, ?B/s]"
      ]
     },
     "metadata": {},
     "output_type": "display_data"
    },
    {
     "data": {
      "application/vnd.jupyter.widget-view+json": {
       "model_id": "c2eb498ec85c443ab98cfc736669edeb",
       "version_major": 2,
       "version_minor": 0
      },
      "text/plain": [
       "tokenizer_config.json:   0%|          | 0.00/366 [00:00<?, ?B/s]"
      ]
     },
     "metadata": {},
     "output_type": "display_data"
    },
    {
     "data": {
      "application/vnd.jupyter.widget-view+json": {
       "model_id": "a0482066cb2349e4bfb3e472b6650730",
       "version_major": 2,
       "version_minor": 0
      },
      "text/plain": [
       "vocab.txt:   0%|          | 0.00/232k [00:00<?, ?B/s]"
      ]
     },
     "metadata": {},
     "output_type": "display_data"
    },
    {
     "data": {
      "application/vnd.jupyter.widget-view+json": {
       "model_id": "daa39e49119a4f1a82eadbe85397f180",
       "version_major": 2,
       "version_minor": 0
      },
      "text/plain": [
       "special_tokens_map.json:   0%|          | 0.00/125 [00:00<?, ?B/s]"
      ]
     },
     "metadata": {},
     "output_type": "display_data"
    },
    {
     "data": {
      "application/vnd.jupyter.widget-view+json": {
       "model_id": "bf7d1c2b295c499bbb20538e8090cb98",
       "version_major": 2,
       "version_minor": 0
      },
      "text/plain": [
       "model.safetensors:   0%|          | 0.00/438M [00:00<?, ?B/s]"
      ]
     },
     "metadata": {},
     "output_type": "display_data"
    },
    {
     "name": "stderr",
     "output_type": "stream",
     "text": [
      "Device set to use mps:0\n"
     ]
    }
   ],
   "source": [
    "toxicity_classifier = pipeline(\"text-classification\", model=\"unitary/unbiased-toxic-roberta\")\n",
    "bias_classifier = pipeline(\"text-classification\", model=\"newsmediabias/UnBIAS-classifier\")"
   ]
  },
  {
   "cell_type": "code",
   "execution_count": 14,
   "id": "821c8cac",
   "metadata": {},
   "outputs": [
    {
     "data": {
      "application/vnd.jupyter.widget-view+json": {
       "model_id": "9aaaa16db4eb4f2795951631c36e2a57",
       "version_major": 2,
       "version_minor": 0
      },
      "text/plain": [
       "README.md:   0%|          | 0.00/676 [00:00<?, ?B/s]"
      ]
     },
     "metadata": {},
     "output_type": "display_data"
    },
    {
     "name": "stderr",
     "output_type": "stream",
     "text": [
      "Repo card metadata block was not found. Setting CardData to empty.\n"
     ]
    },
    {
     "data": {
      "application/vnd.jupyter.widget-view+json": {
       "model_id": "ee54429e6d3a413580637ed88120a431",
       "version_major": 2,
       "version_minor": 0
      },
      "text/plain": [
       "bias_lexicon.csv:   0%|          | 0.00/32.7k [00:00<?, ?B/s]"
      ]
     },
     "metadata": {},
     "output_type": "display_data"
    },
    {
     "data": {
      "application/vnd.jupyter.widget-view+json": {
       "model_id": "802a668105714ff8bd404403734ac35a",
       "version_major": 2,
       "version_minor": 0
      },
      "text/plain": [
       "Generating train split:   0%|          | 0/2130 [00:00<?, ? examples/s]"
      ]
     },
     "metadata": {},
     "output_type": "display_data"
    }
   ],
   "source": [
    "bias_lexicon_dataset = load_dataset(\"mediabiasgroup/bias-lexicon\")\n",
    "biased_words_set = set(bias_lexicon_dataset['train']['word'])"
   ]
  },
  {
   "cell_type": "code",
   "execution_count": 15,
   "id": "a6d7b996",
   "metadata": {},
   "outputs": [],
   "source": [
    "results = []\n",
    "\n",
    "for i, sentence in enumerate(sentences):\n",
    "    toxicity = toxicity_classifier(sentence)[0]\n",
    "    bias = bias_classifier(sentence)[0]\n",
    "    biased_words = [word for word in sentence.lower().split() if word in biased_words_set]\n",
    "\n",
    "    results.append({\n",
    "        \"sentence\": sentence,\n",
    "        \"toxicity_score\": toxicity['score'] if toxicity['label'] == 'toxicity' else 0.0,\n",
    "        \"bias_label\": bias['label'],\n",
    "        \"bias_score\": bias['score'],\n",
    "        \"biased_words\": biased_words\n",
    "    })"
   ]
  },
  {
   "cell_type": "code",
   "execution_count": 16,
   "id": "b5bda6cc",
   "metadata": {},
   "outputs": [
    {
     "data": {
      "text/html": [
       "<div>\n",
       "<style scoped>\n",
       "    .dataframe tbody tr th:only-of-type {\n",
       "        vertical-align: middle;\n",
       "    }\n",
       "\n",
       "    .dataframe tbody tr th {\n",
       "        vertical-align: top;\n",
       "    }\n",
       "\n",
       "    .dataframe thead th {\n",
       "        text-align: right;\n",
       "    }\n",
       "</style>\n",
       "<table border=\"1\" class=\"dataframe\">\n",
       "  <thead>\n",
       "    <tr style=\"text-align: right;\">\n",
       "      <th></th>\n",
       "      <th>sentence</th>\n",
       "      <th>toxicity_score</th>\n",
       "      <th>bias_label</th>\n",
       "      <th>bias_score</th>\n",
       "      <th>biased_words</th>\n",
       "    </tr>\n",
       "  </thead>\n",
       "  <tbody>\n",
       "    <tr>\n",
       "      <th>0</th>\n",
       "      <td>Pro-Life (born Marvin Thomas Richardson; Augus...</td>\n",
       "      <td>0.000476</td>\n",
       "      <td>Highly Biased</td>\n",
       "      <td>0.804774</td>\n",
       "      <td>[]</td>\n",
       "    </tr>\n",
       "    <tr>\n",
       "      <th>1</th>\n",
       "      <td>He lives in the unincorporated community of Le...</td>\n",
       "      <td>0.000582</td>\n",
       "      <td>Slightly Biased</td>\n",
       "      <td>0.583561</td>\n",
       "      <td>[]</td>\n",
       "    </tr>\n",
       "    <tr>\n",
       "      <th>2</th>\n",
       "      <td>He has made several unsuccessful runs for poli...</td>\n",
       "      <td>0.009212</td>\n",
       "      <td>Highly Biased</td>\n",
       "      <td>0.549979</td>\n",
       "      <td>[]</td>\n",
       "    </tr>\n",
       "    <tr>\n",
       "      <th>3</th>\n",
       "      <td>Pro-Life ran in the 2020 United States House o...</td>\n",
       "      <td>0.000356</td>\n",
       "      <td>Highly Biased</td>\n",
       "      <td>0.623362</td>\n",
       "      <td>[]</td>\n",
       "    </tr>\n",
       "    <tr>\n",
       "      <th>4</th>\n",
       "      <td>== Early life and education ==\\nBorn Marvin Th...</td>\n",
       "      <td>0.000383</td>\n",
       "      <td>Highly Biased</td>\n",
       "      <td>0.649666</td>\n",
       "      <td>[]</td>\n",
       "    </tr>\n",
       "    <tr>\n",
       "      <th>5</th>\n",
       "      <td>He played basketball in high school and attend...</td>\n",
       "      <td>0.000420</td>\n",
       "      <td>Slightly Biased</td>\n",
       "      <td>0.551373</td>\n",
       "      <td>[]</td>\n",
       "    </tr>\n",
       "    <tr>\n",
       "      <th>6</th>\n",
       "      <td>He graduated from BYU in 1967 with a degree in...</td>\n",
       "      <td>0.000571</td>\n",
       "      <td>Highly Biased</td>\n",
       "      <td>0.458142</td>\n",
       "      <td>[]</td>\n",
       "    </tr>\n",
       "    <tr>\n",
       "      <th>7</th>\n",
       "      <td>Pro-Life has worked as an organic farmer since...</td>\n",
       "      <td>0.000410</td>\n",
       "      <td>Slightly Biased</td>\n",
       "      <td>0.508609</td>\n",
       "      <td>[]</td>\n",
       "    </tr>\n",
       "    <tr>\n",
       "      <th>8</th>\n",
       "      <td>He has previously worked as an accountant, coa...</td>\n",
       "      <td>0.000839</td>\n",
       "      <td>Highly Biased</td>\n",
       "      <td>0.649551</td>\n",
       "      <td>[]</td>\n",
       "    </tr>\n",
       "    <tr>\n",
       "      <th>9</th>\n",
       "      <td>== Career ==\\n\\n\\n=== Campaigns ===\\nAs Marvin...</td>\n",
       "      <td>0.000440</td>\n",
       "      <td>Highly Biased</td>\n",
       "      <td>0.719653</td>\n",
       "      <td>[]</td>\n",
       "    </tr>\n",
       "  </tbody>\n",
       "</table>\n",
       "</div>"
      ],
      "text/plain": [
       "                                            sentence  toxicity_score  \\\n",
       "0  Pro-Life (born Marvin Thomas Richardson; Augus...        0.000476   \n",
       "1  He lives in the unincorporated community of Le...        0.000582   \n",
       "2  He has made several unsuccessful runs for poli...        0.009212   \n",
       "3  Pro-Life ran in the 2020 United States House o...        0.000356   \n",
       "4  == Early life and education ==\\nBorn Marvin Th...        0.000383   \n",
       "5  He played basketball in high school and attend...        0.000420   \n",
       "6  He graduated from BYU in 1967 with a degree in...        0.000571   \n",
       "7  Pro-Life has worked as an organic farmer since...        0.000410   \n",
       "8  He has previously worked as an accountant, coa...        0.000839   \n",
       "9  == Career ==\\n\\n\\n=== Campaigns ===\\nAs Marvin...        0.000440   \n",
       "\n",
       "        bias_label  bias_score biased_words  \n",
       "0    Highly Biased    0.804774           []  \n",
       "1  Slightly Biased    0.583561           []  \n",
       "2    Highly Biased    0.549979           []  \n",
       "3    Highly Biased    0.623362           []  \n",
       "4    Highly Biased    0.649666           []  \n",
       "5  Slightly Biased    0.551373           []  \n",
       "6    Highly Biased    0.458142           []  \n",
       "7  Slightly Biased    0.508609           []  \n",
       "8    Highly Biased    0.649551           []  \n",
       "9    Highly Biased    0.719653           []  "
      ]
     },
     "execution_count": 16,
     "metadata": {},
     "output_type": "execute_result"
    }
   ],
   "source": [
    "import pandas as pd\n",
    "\n",
    "df_results = pd.DataFrame(results)\n",
    "df_results.head(10)"
   ]
  },
  {
   "cell_type": "code",
   "execution_count": 17,
   "id": "3c3c584f",
   "metadata": {},
   "outputs": [
    {
     "name": "stdout",
     "output_type": "stream",
     "text": [
      "Average Toxicity Score: 0.0025\n",
      "\n",
      "Bias Label Distribution:\n",
      "bias_label\n",
      "Highly Biased      24\n",
      "Slightly Biased    21\n",
      "Neutral            10\n",
      "Name: count, dtype: int64\n",
      "\n",
      "Total Biased Words Found: 1\n"
     ]
    }
   ],
   "source": [
    "avg_toxicity = df_results['toxicity_score'].mean()\n",
    "bias_distribution = df_results['bias_label'].value_counts()\n",
    "total_biased_words = df_results['biased_words'].apply(len).sum()\n",
    "\n",
    "print(f\"Average Toxicity Score: {avg_toxicity:.4f}\")\n",
    "print(\"\\nBias Label Distribution:\")\n",
    "print(bias_distribution)\n",
    "print(f\"\\nTotal Biased Words Found: {total_biased_words}\")"
   ]
  },
  {
   "cell_type": "markdown",
   "id": "e8589f89",
   "metadata": {},
   "source": [
    "Great! Let's add some spaCy"
   ]
  },
  {
   "cell_type": "code",
   "execution_count": 20,
   "id": "e64562d4",
   "metadata": {},
   "outputs": [
    {
     "name": "stderr",
     "output_type": "stream",
     "text": [
      "huggingface/tokenizers: The current process just got forked, after parallelism has already been used. Disabling parallelism to avoid deadlocks...\n",
      "To disable this warning, you can either:\n",
      "\t- Avoid using `tokenizers` before the fork if possible\n",
      "\t- Explicitly set the environment variable TOKENIZERS_PARALLELISM=(true | false)\n"
     ]
    },
    {
     "name": "stdout",
     "output_type": "stream",
     "text": [
      "Requirement already satisfied: spacy in /Users/betaknight/may_code_pudding/bias-venv/lib/python3.11/site-packages (3.8.5)\n",
      "Requirement already satisfied: spacy-legacy<3.1.0,>=3.0.11 in /Users/betaknight/may_code_pudding/bias-venv/lib/python3.11/site-packages (from spacy) (3.0.12)\n",
      "Requirement already satisfied: spacy-loggers<2.0.0,>=1.0.0 in /Users/betaknight/may_code_pudding/bias-venv/lib/python3.11/site-packages (from spacy) (1.0.5)\n",
      "Requirement already satisfied: murmurhash<1.1.0,>=0.28.0 in /Users/betaknight/may_code_pudding/bias-venv/lib/python3.11/site-packages (from spacy) (1.0.12)\n",
      "Requirement already satisfied: cymem<2.1.0,>=2.0.2 in /Users/betaknight/may_code_pudding/bias-venv/lib/python3.11/site-packages (from spacy) (2.0.11)\n",
      "Requirement already satisfied: preshed<3.1.0,>=3.0.2 in /Users/betaknight/may_code_pudding/bias-venv/lib/python3.11/site-packages (from spacy) (3.0.9)\n",
      "Requirement already satisfied: thinc<8.4.0,>=8.3.4 in /Users/betaknight/may_code_pudding/bias-venv/lib/python3.11/site-packages (from spacy) (8.3.6)\n",
      "Requirement already satisfied: wasabi<1.2.0,>=0.9.1 in /Users/betaknight/may_code_pudding/bias-venv/lib/python3.11/site-packages (from spacy) (1.1.3)\n",
      "Requirement already satisfied: srsly<3.0.0,>=2.4.3 in /Users/betaknight/may_code_pudding/bias-venv/lib/python3.11/site-packages (from spacy) (2.5.1)\n",
      "Requirement already satisfied: catalogue<2.1.0,>=2.0.6 in /Users/betaknight/may_code_pudding/bias-venv/lib/python3.11/site-packages (from spacy) (2.0.10)\n",
      "Requirement already satisfied: weasel<0.5.0,>=0.1.0 in /Users/betaknight/may_code_pudding/bias-venv/lib/python3.11/site-packages (from spacy) (0.4.1)\n",
      "Requirement already satisfied: typer<1.0.0,>=0.3.0 in /Users/betaknight/may_code_pudding/bias-venv/lib/python3.11/site-packages (from spacy) (0.15.3)\n",
      "Requirement already satisfied: tqdm<5.0.0,>=4.38.0 in /Users/betaknight/may_code_pudding/bias-venv/lib/python3.11/site-packages (from spacy) (4.67.1)\n",
      "Requirement already satisfied: numpy>=1.19.0 in /Users/betaknight/may_code_pudding/bias-venv/lib/python3.11/site-packages (from spacy) (2.2.5)\n",
      "Requirement already satisfied: requests<3.0.0,>=2.13.0 in /Users/betaknight/may_code_pudding/bias-venv/lib/python3.11/site-packages (from spacy) (2.32.3)\n",
      "Requirement already satisfied: pydantic!=1.8,!=1.8.1,<3.0.0,>=1.7.4 in /Users/betaknight/may_code_pudding/bias-venv/lib/python3.11/site-packages (from spacy) (2.11.4)\n",
      "Requirement already satisfied: jinja2 in /Users/betaknight/may_code_pudding/bias-venv/lib/python3.11/site-packages (from spacy) (3.1.6)\n",
      "Requirement already satisfied: setuptools in /Users/betaknight/may_code_pudding/bias-venv/lib/python3.11/site-packages (from spacy) (75.6.0)\n",
      "Requirement already satisfied: packaging>=20.0 in /Users/betaknight/may_code_pudding/bias-venv/lib/python3.11/site-packages (from spacy) (25.0)\n",
      "Requirement already satisfied: langcodes<4.0.0,>=3.2.0 in /Users/betaknight/may_code_pudding/bias-venv/lib/python3.11/site-packages (from spacy) (3.5.0)\n",
      "Requirement already satisfied: language-data>=1.2 in /Users/betaknight/may_code_pudding/bias-venv/lib/python3.11/site-packages (from langcodes<4.0.0,>=3.2.0->spacy) (1.3.0)\n",
      "Requirement already satisfied: annotated-types>=0.6.0 in /Users/betaknight/may_code_pudding/bias-venv/lib/python3.11/site-packages (from pydantic!=1.8,!=1.8.1,<3.0.0,>=1.7.4->spacy) (0.7.0)\n",
      "Requirement already satisfied: pydantic-core==2.33.2 in /Users/betaknight/may_code_pudding/bias-venv/lib/python3.11/site-packages (from pydantic!=1.8,!=1.8.1,<3.0.0,>=1.7.4->spacy) (2.33.2)\n",
      "Requirement already satisfied: typing-extensions>=4.12.2 in /Users/betaknight/may_code_pudding/bias-venv/lib/python3.11/site-packages (from pydantic!=1.8,!=1.8.1,<3.0.0,>=1.7.4->spacy) (4.13.2)\n",
      "Requirement already satisfied: typing-inspection>=0.4.0 in /Users/betaknight/may_code_pudding/bias-venv/lib/python3.11/site-packages (from pydantic!=1.8,!=1.8.1,<3.0.0,>=1.7.4->spacy) (0.4.0)\n",
      "Requirement already satisfied: charset-normalizer<4,>=2 in /Users/betaknight/may_code_pudding/bias-venv/lib/python3.11/site-packages (from requests<3.0.0,>=2.13.0->spacy) (3.4.1)\n",
      "Requirement already satisfied: idna<4,>=2.5 in /Users/betaknight/may_code_pudding/bias-venv/lib/python3.11/site-packages (from requests<3.0.0,>=2.13.0->spacy) (3.10)\n",
      "Requirement already satisfied: urllib3<3,>=1.21.1 in /Users/betaknight/may_code_pudding/bias-venv/lib/python3.11/site-packages (from requests<3.0.0,>=2.13.0->spacy) (2.4.0)\n",
      "Requirement already satisfied: certifi>=2017.4.17 in /Users/betaknight/may_code_pudding/bias-venv/lib/python3.11/site-packages (from requests<3.0.0,>=2.13.0->spacy) (2025.4.26)\n",
      "Requirement already satisfied: blis<1.4.0,>=1.3.0 in /Users/betaknight/may_code_pudding/bias-venv/lib/python3.11/site-packages (from thinc<8.4.0,>=8.3.4->spacy) (1.3.0)\n",
      "Requirement already satisfied: confection<1.0.0,>=0.0.1 in /Users/betaknight/may_code_pudding/bias-venv/lib/python3.11/site-packages (from thinc<8.4.0,>=8.3.4->spacy) (0.1.5)\n",
      "Requirement already satisfied: click>=8.0.0 in /Users/betaknight/may_code_pudding/bias-venv/lib/python3.11/site-packages (from typer<1.0.0,>=0.3.0->spacy) (8.1.8)\n",
      "Requirement already satisfied: shellingham>=1.3.0 in /Users/betaknight/may_code_pudding/bias-venv/lib/python3.11/site-packages (from typer<1.0.0,>=0.3.0->spacy) (1.5.4)\n",
      "Requirement already satisfied: rich>=10.11.0 in /Users/betaknight/may_code_pudding/bias-venv/lib/python3.11/site-packages (from typer<1.0.0,>=0.3.0->spacy) (14.0.0)\n",
      "Requirement already satisfied: cloudpathlib<1.0.0,>=0.7.0 in /Users/betaknight/may_code_pudding/bias-venv/lib/python3.11/site-packages (from weasel<0.5.0,>=0.1.0->spacy) (0.21.0)\n",
      "Requirement already satisfied: smart-open<8.0.0,>=5.2.1 in /Users/betaknight/may_code_pudding/bias-venv/lib/python3.11/site-packages (from weasel<0.5.0,>=0.1.0->spacy) (7.1.0)\n",
      "Requirement already satisfied: MarkupSafe>=2.0 in /Users/betaknight/may_code_pudding/bias-venv/lib/python3.11/site-packages (from jinja2->spacy) (3.0.2)\n",
      "Requirement already satisfied: marisa-trie>=1.1.0 in /Users/betaknight/may_code_pudding/bias-venv/lib/python3.11/site-packages (from language-data>=1.2->langcodes<4.0.0,>=3.2.0->spacy) (1.2.1)\n",
      "Requirement already satisfied: markdown-it-py>=2.2.0 in /Users/betaknight/may_code_pudding/bias-venv/lib/python3.11/site-packages (from rich>=10.11.0->typer<1.0.0,>=0.3.0->spacy) (3.0.0)\n",
      "Requirement already satisfied: pygments<3.0.0,>=2.13.0 in /Users/betaknight/may_code_pudding/bias-venv/lib/python3.11/site-packages (from rich>=10.11.0->typer<1.0.0,>=0.3.0->spacy) (2.19.1)\n",
      "Requirement already satisfied: wrapt in /Users/betaknight/may_code_pudding/bias-venv/lib/python3.11/site-packages (from smart-open<8.0.0,>=5.2.1->weasel<0.5.0,>=0.1.0->spacy) (1.17.2)\n",
      "Requirement already satisfied: mdurl~=0.1 in /Users/betaknight/may_code_pudding/bias-venv/lib/python3.11/site-packages (from markdown-it-py>=2.2.0->rich>=10.11.0->typer<1.0.0,>=0.3.0->spacy) (0.1.2)\n",
      "\n",
      "\u001b[1m[\u001b[0m\u001b[34;49mnotice\u001b[0m\u001b[1;39;49m]\u001b[0m\u001b[39;49m A new release of pip is available: \u001b[0m\u001b[31;49m24.3.1\u001b[0m\u001b[39;49m -> \u001b[0m\u001b[32;49m25.1\u001b[0m\n",
      "\u001b[1m[\u001b[0m\u001b[34;49mnotice\u001b[0m\u001b[1;39;49m]\u001b[0m\u001b[39;49m To update, run: \u001b[0m\u001b[32;49mpip install --upgrade pip\u001b[0m\n",
      "Note: you may need to restart the kernel to use updated packages.\n"
     ]
    },
    {
     "name": "stderr",
     "output_type": "stream",
     "text": [
      "UsageError: Line magic function `%python` not found (But cell magic `%%python` exists, did you mean that instead?).\n"
     ]
    }
   ],
   "source": [
    "%pip install spacy\n",
    "%python -m spacy download en_core_web_sm"
   ]
  },
  {
   "cell_type": "code",
   "execution_count": 22,
   "id": "5717f1ca",
   "metadata": {},
   "outputs": [],
   "source": [
    "import spacy\n",
    "nlp = spacy.load(\"en_core_web_sm\")\n",
    "\n",
    "bias_phrases = {\n",
    "    \"factive_verbs\": {\"admit\", \"confirm\", \"prove\", \"demonstrate\", \"reveal\"},\n",
    "    \"hedges\": {\"reportedly\", \"allegedly\", \"apparently\", \"may\", \"might\", \"seem\", \"suggests\"},\n",
    "    \"intensifiers\": {\"clearly\", \"obviously\", \"undeniably\", \"very\", \"highly\"},\n",
    "    \"implicatives\": {\"manage\", \"fail\", \"refuse\", \"hesitate\"}\n",
    "}\n",
    "combined_lexicon = set().union(*bias_phrases.values())\n",
    "\n",
    "results = []\n",
    "\n",
    "for i, sentence in enumerate(sentences):\n",
    "    toxicity = toxicity_classifier(sentence)[0]\n",
    "    bias = bias_classifier(sentence)[0]\n",
    "\n",
    "    doc = nlp(sentence)\n",
    "    cue_matches = [token.text.lower() for token in doc if token.text.lower() in combined_lexicon]\n",
    "    biased_words = [word for word in sentence.lower().split() if word in biased_words_set]\n",
    "    all_biased_words = list(set(biased_words + cue_matches))\n",
    "\n",
    "    results.append({\n",
    "        \"sentence\": sentence,\n",
    "        \"toxicity_score\": toxicity['score'] if toxicity['label'] == 'toxicity' else 0.0,\n",
    "        \"bias_label\": bias['label'],\n",
    "        \"bias_score\": bias['score'],\n",
    "        \"biased_words\": all_biased_words\n",
    "    })"
   ]
  },
  {
   "cell_type": "code",
   "execution_count": 23,
   "id": "90427b3c",
   "metadata": {},
   "outputs": [
    {
     "name": "stdout",
     "output_type": "stream",
     "text": [
      "Average Toxicity Score: 0.0025\n",
      "\n",
      "Bias Label Distribution:\n",
      "bias_label\n",
      "Highly Biased      24\n",
      "Slightly Biased    21\n",
      "Neutral            10\n",
      "Name: count, dtype: int64\n",
      "\n",
      "Total Biased Words Found (from both lexicons): 3\n"
     ]
    }
   ],
   "source": [
    "df_results = pd.DataFrame(results)\n",
    "\n",
    "avg_toxicity = df_results['toxicity_score'].mean()\n",
    "bias_distribution = df_results['bias_label'].value_counts()\n",
    "total_biased_words = df_results['biased_words'].apply(len).sum()\n",
    "\n",
    "print(f\"Average Toxicity Score: {avg_toxicity:.4f}\")\n",
    "print(\"\\nBias Label Distribution:\")\n",
    "print(bias_distribution)\n",
    "print(f\"\\nTotal Biased Words Found (from both lexicons): {total_biased_words}\")"
   ]
  },
  {
   "cell_type": "code",
   "execution_count": 29,
   "id": "39d583b4",
   "metadata": {},
   "outputs": [
    {
     "name": "stderr",
     "output_type": "stream",
     "text": [
      "Device set to use mps:0\n",
      "Device set to use mps:0\n",
      "Repo card metadata block was not found. Setting CardData to empty.\n"
     ]
    },
    {
     "data": {
      "text/html": [
       "<div>\n",
       "<style scoped>\n",
       "    .dataframe tbody tr th:only-of-type {\n",
       "        vertical-align: middle;\n",
       "    }\n",
       "\n",
       "    .dataframe tbody tr th {\n",
       "        vertical-align: top;\n",
       "    }\n",
       "\n",
       "    .dataframe thead th {\n",
       "        text-align: right;\n",
       "    }\n",
       "</style>\n",
       "<table border=\"1\" class=\"dataframe\">\n",
       "  <thead>\n",
       "    <tr style=\"text-align: right;\">\n",
       "      <th></th>\n",
       "      <th>article</th>\n",
       "      <th>avg_toxicity</th>\n",
       "      <th>avg_bias_score</th>\n",
       "      <th>total_biased_words</th>\n",
       "    </tr>\n",
       "  </thead>\n",
       "  <tbody>\n",
       "    <tr>\n",
       "      <th>0</th>\n",
       "      <td>Pro-Life (politician)</td>\n",
       "      <td>0.0025</td>\n",
       "      <td>0.6147</td>\n",
       "      <td>3</td>\n",
       "    </tr>\n",
       "    <tr>\n",
       "      <th>1</th>\n",
       "      <td>Pro-choice and pro-life</td>\n",
       "      <td>0.0006</td>\n",
       "      <td>0.7547</td>\n",
       "      <td>5</td>\n",
       "    </tr>\n",
       "    <tr>\n",
       "      <th>2</th>\n",
       "      <td>Gun control</td>\n",
       "      <td>0.0012</td>\n",
       "      <td>0.7331</td>\n",
       "      <td>52</td>\n",
       "    </tr>\n",
       "    <tr>\n",
       "      <th>3</th>\n",
       "      <td>Climate change</td>\n",
       "      <td>0.0004</td>\n",
       "      <td>0.6035</td>\n",
       "      <td>29</td>\n",
       "    </tr>\n",
       "    <tr>\n",
       "      <th>4</th>\n",
       "      <td>Donald Trump</td>\n",
       "      <td>0.0101</td>\n",
       "      <td>0.6859</td>\n",
       "      <td>86</td>\n",
       "    </tr>\n",
       "    <tr>\n",
       "      <th>5</th>\n",
       "      <td>Barack Obama</td>\n",
       "      <td>0.0016</td>\n",
       "      <td>0.6185</td>\n",
       "      <td>49</td>\n",
       "    </tr>\n",
       "    <tr>\n",
       "      <th>6</th>\n",
       "      <td>Universal health care</td>\n",
       "      <td>0.0006</td>\n",
       "      <td>0.6348</td>\n",
       "      <td>13</td>\n",
       "    </tr>\n",
       "    <tr>\n",
       "      <th>7</th>\n",
       "      <td>Abortion in the United States</td>\n",
       "      <td>0.0047</td>\n",
       "      <td>0.6930</td>\n",
       "      <td>66</td>\n",
       "    </tr>\n",
       "    <tr>\n",
       "      <th>8</th>\n",
       "      <td>Feminism</td>\n",
       "      <td>0.0005</td>\n",
       "      <td>0.7878</td>\n",
       "      <td>97</td>\n",
       "    </tr>\n",
       "    <tr>\n",
       "      <th>9</th>\n",
       "      <td>Immigration</td>\n",
       "      <td>0.0043</td>\n",
       "      <td>0.7607</td>\n",
       "      <td>57</td>\n",
       "    </tr>\n",
       "  </tbody>\n",
       "</table>\n",
       "</div>"
      ],
      "text/plain": [
       "                         article  avg_toxicity  avg_bias_score  \\\n",
       "0          Pro-Life (politician)        0.0025          0.6147   \n",
       "1        Pro-choice and pro-life        0.0006          0.7547   \n",
       "2                    Gun control        0.0012          0.7331   \n",
       "3                 Climate change        0.0004          0.6035   \n",
       "4                   Donald Trump        0.0101          0.6859   \n",
       "5                   Barack Obama        0.0016          0.6185   \n",
       "6          Universal health care        0.0006          0.6348   \n",
       "7  Abortion in the United States        0.0047          0.6930   \n",
       "8                       Feminism        0.0005          0.7878   \n",
       "9                    Immigration        0.0043          0.7607   \n",
       "\n",
       "   total_biased_words  \n",
       "0                   3  \n",
       "1                   5  \n",
       "2                  52  \n",
       "3                  29  \n",
       "4                  86  \n",
       "5                  49  \n",
       "6                  13  \n",
       "7                  66  \n",
       "8                  97  \n",
       "9                  57  "
      ]
     },
     "execution_count": 29,
     "metadata": {},
     "output_type": "execute_result"
    }
   ],
   "source": [
    "toxicity_classifier = pipeline(\"text-classification\", model=\"unitary/unbiased-toxic-roberta\")\n",
    "bias_classifier = pipeline(\"text-classification\", model=\"newsmediabias/UnBIAS-classifier\")\n",
    "\n",
    "bias_lexicon = load_dataset(\"mediabiasgroup/bias-lexicon\")\n",
    "biased_words_set = set(bias_lexicon['train']['word'])\n",
    "\n",
    "bias_phrases = {\n",
    "    \"factive_verbs\": {\"admit\", \"confirm\", \"prove\", \"demonstrate\", \"reveal\"},\n",
    "    \"hedges\": {\"reportedly\", \"allegedly\", \"apparently\", \"may\", \"might\", \"seem\", \"suggests\"},\n",
    "    \"intensifiers\": {\"clearly\", \"obviously\", \"undeniably\", \"very\", \"highly\"},\n",
    "    \"implicatives\": {\"manage\", \"fail\", \"refuse\", \"hesitate\"}\n",
    "}\n",
    "combined_lexicon = set().union(*bias_phrases.values())\n",
    "\n",
    "topics = [\n",
    "    \"Pro-life\", \"Pro-choice\", \"Gun control\", \"Climate change\", \"Donald Trump\",\n",
    "    \"Barack Obama\", \"Universal healthcare\", \"Abortion in the United States\", \"Feminism\", \"Immigration\"\n",
    "]\n",
    "\n",
    "summary = []\n",
    "\n",
    "for topic in topics:\n",
    "    try:\n",
    "        real_title = wikipedia.search(topic)[0]\n",
    "        text = wikipedia.page(real_title).content\n",
    "        sentences = sent_tokenize(text)\n",
    "\n",
    "        tox_scores, bias_scores, total_biased_words = [], [], 0\n",
    "\n",
    "        for sentence in sentences:\n",
    "            tox = toxicity_classifier(sentence)[0]\n",
    "            bias = bias_classifier(sentence)[0]\n",
    "            doc = nlp(sentence)\n",
    "\n",
    "            cue_hits = [t.text.lower() for t in doc if t.text.lower() in combined_lexicon]\n",
    "            lexicon_hits = [w for w in sentence.lower().split() if w in biased_words_set]\n",
    "            all_hits = set(cue_hits + lexicon_hits)\n",
    "            total_biased_words += len(all_hits)\n",
    "\n",
    "            tox_scores.append(tox[\"score\"] if tox[\"label\"] == \"toxicity\" else 0)\n",
    "            bias_scores.append(bias[\"score\"])\n",
    "\n",
    "        summary.append({\n",
    "            \"article\": real_title,\n",
    "            \"avg_toxicity\": round(sum(tox_scores) / len(tox_scores), 4),\n",
    "            \"avg_bias_score\": round(sum(bias_scores) / len(bias_scores), 4),\n",
    "            \"total_biased_words\": total_biased_words\n",
    "        })\n",
    "\n",
    "    except Exception as e:\n",
    "        summary.append({\n",
    "            \"article\": topic,\n",
    "            \"avg_toxicity\": \"ERROR\",\n",
    "            \"avg_bias_score\": \"ERROR\",\n",
    "            \"total_biased_words\": f\"Error: {str(e)[:40]}\"\n",
    "        })\n",
    "\n",
    "df_summary = pd.DataFrame(summary)\n",
    "df_summary"
   ]
  },
  {
   "cell_type": "markdown",
   "id": "77b2ece2",
   "metadata": {},
   "source": [
    "## Making CSV"
   ]
  },
  {
   "cell_type": "code",
   "execution_count": 32,
   "id": "f8c93d16",
   "metadata": {},
   "outputs": [
    {
     "name": "stderr",
     "output_type": "stream",
     "text": [
      "Device set to use mps:0\n",
      "Device set to use mps:0\n",
      "Repo card metadata block was not found. Setting CardData to empty.\n"
     ]
    },
    {
     "name": "stdout",
     "output_type": "stream",
     "text": [
      "Processing 1/83: Politics\n",
      "Processing 2/83: Abortion\n",
      "Processing 3/83: Guns\n",
      "Processing 4/83: Healthcare\n",
      "Processing 5/83: Immigration\n",
      "Processing 6/83: Climate\n",
      "Processing 7/83: Gender\n",
      "Processing 8/83: Feminism\n",
      "Processing 9/83: Capitalism\n",
      "Processing 10/83: Socialism\n",
      "Processing 11/83: Libertarianism\n",
      "Processing 12/83: Progressivism\n",
      "Processing 13/83: Conservatism\n",
      "Processing 14/83: Liberalism\n",
      "Processing 15/83: Racism\n",
      "Processing 16/83: LGBT\n",
      "Processing 17/83: Religion\n",
      "Processing 18/83: Censorship\n",
      "Processing 19/83: Free speech\n",
      "Processing 20/83: Terrorism\n",
      "Processing 21/83: Civil rights\n",
      "Processing 22/83: Police\n",
      "Processing 23/83: Prisons\n",
      "Processing 24/83: Taxation\n",
      "Processing 25/83: Social media\n",
      "Processing 26/83: Elections\n",
      "Processing 27/83: Education\n",
      "Processing 28/83: Minimum wage\n",
      "Processing 29/83: Foreign policy\n",
      "Processing 30/83: Nationalism\n",
      "Processing 31/83: Patriotism\n",
      "Processing 32/83: Green energy\n",
      "Processing 33/83: Vaccines\n",
      "Processing 34/83: Public health\n",
      "Processing 35/83: Gun violence\n",
      "Processing 36/83: Bipartisanship\n",
      "Processing 37/83: Homelessness\n",
      "Processing 38/83: Supreme Court\n",
      "Processing 39/83: Presidency\n",
      "Processing 40/83: Congress\n",
      "Processing 41/83: Senate\n",
      "Processing 42/83: House of Representatives\n",
      "Processing 43/83: Media bias\n",
      "Processing 44/83: Fake news\n",
      "Processing 45/83: Propaganda\n",
      "Processing 46/83: Fact-checking\n",
      "Processing 47/83: Journalism\n",
      "Processing 48/83: Freedom\n",
      "Processing 49/83: Discrimination\n",
      "Processing 50/83: Protests\n",
      "Processing 51/83: Strikes\n"
     ]
    },
    {
     "name": "stderr",
     "output_type": "stream",
     "text": [
      "/Users/betaknight/may_code_pudding/bias-venv/lib/python3.11/site-packages/wikipedia/wikipedia.py:389: GuessedAtParserWarning: No parser was explicitly specified, so I'm using the best available HTML parser for this system (\"html.parser\"). This usually isn't a problem, but if you run this code on another system, or in a different virtual environment, it may use a different parser and behave differently.\n",
      "\n",
      "The code that caused this warning is on line 389 of the file /Users/betaknight/may_code_pudding/bias-venv/lib/python3.11/site-packages/wikipedia/wikipedia.py. To get rid of this warning, pass the additional argument 'features=\"html.parser\"' to the BeautifulSoup constructor.\n",
      "\n",
      "  lis = BeautifulSoup(html).find_all('li')\n"
     ]
    },
    {
     "name": "stdout",
     "output_type": "stream",
     "text": [
      "Skipped: Strikes — \"Strike\" may refer to: \n",
      "Strike (surname)\n",
      "Hobart Huson\n",
      "Strike (attack)\n",
      "Airstrike\n",
      "\n",
      "Processing 52/83: Labor unions\n",
      "Processing 53/83: Corporations\n",
      "Processing 54/83: Big tech\n",
      "Processing 55/83: Economy\n",
      "Processing 56/83: Stock market\n",
      "Processing 57/83: Recession\n",
      "Processing 58/83: Surveillance\n",
      "Processing 59/83: Privacy\n",
      "Processing 60/83: Whistleblower\n",
      "Processing 61/83: Military\n",
      "Processing 62/83: Defense spending\n",
      "Processing 63/83: Sexual harassment\n",
      "Processing 64/83: Critical race theory\n",
      "Processing 65/83: School choice\n",
      "Processing 66/83: Standardized testing\n",
      "Processing 67/83: Cyberbullying\n",
      "Processing 68/83: AI ethics\n",
      "Processing 69/83: Facial recognition\n",
      "Processing 70/83: Climate crisis\n",
      "Processing 71/83: Carbon emissions\n",
      "Processing 72/83: Nuclear weapons\n",
      "Processing 73/83: Genocide\n",
      "Processing 74/83: Refugees\n",
      "Processing 75/83: Asylum seekers\n",
      "Processing 76/83: DACA\n",
      "Processing 77/83: Affordable housing\n",
      "Processing 78/83: Rent control\n",
      "Processing 79/83: Opioid crisis\n",
      "Processing 80/83: Marijuana legalization\n",
      "Processing 81/83: Gerrymandering\n",
      "Processing 82/83: Campaign finance\n",
      "Processing 83/83: Lobbying\n",
      "✅ Saved: wikipedia_bias_with_text.csv\n"
     ]
    }
   ],
   "source": [
    "from wikipedia.exceptions import DisambiguationError, PageError\n",
    "\n",
    "toxicity_classifier = pipeline(\"text-classification\", model=\"unitary/unbiased-toxic-roberta\")\n",
    "bias_classifier = pipeline(\"text-classification\", model=\"newsmediabias/UnBIAS-classifier\")\n",
    "\n",
    "bias_lexicon = load_dataset(\"mediabiasgroup/bias-lexicon\")\n",
    "biased_words_set = set(bias_lexicon['train']['word'])\n",
    "\n",
    "bias_phrases = {\n",
    "    \"factive_verbs\": {\"admit\", \"confirm\", \"prove\", \"demonstrate\", \"reveal\"},\n",
    "    \"hedges\": {\"reportedly\", \"allegedly\", \"apparently\", \"may\", \"might\", \"seem\", \"suggests\"},\n",
    "    \"intensifiers\": {\"clearly\", \"obviously\", \"undeniably\", \"very\", \"highly\"},\n",
    "    \"implicatives\": {\"manage\", \"fail\", \"refuse\", \"hesitate\"}\n",
    "}\n",
    "combined_lexicon = set().union(*bias_phrases.values())\n",
    "\n",
    "topics = [\n",
    "    \"Politics\", \"Abortion\", \"Guns\", \"Healthcare\", \"Immigration\", \"Climate\", \"Gender\", \"Feminism\",\n",
    "    \"Capitalism\", \"Socialism\", \"Libertarianism\", \"Progressivism\", \"Conservatism\", \"Liberalism\", \"Racism\",\n",
    "    \"LGBT\", \"Religion\", \"Censorship\", \"Free speech\", \"Terrorism\", \"Civil rights\", \"Police\", \"Prisons\",\n",
    "    \"Taxation\", \"Social media\", \"Elections\", \"Education\", \"Minimum wage\", \"Foreign policy\",\n",
    "    \"Nationalism\", \"Patriotism\", \"Green energy\", \"Vaccines\", \"Public health\", \"Gun violence\",\n",
    "    \"Bipartisanship\", \"Homelessness\", \"Supreme Court\", \"Presidency\", \"Congress\", \"Senate\",\n",
    "    \"House of Representatives\", \"Media bias\", \"Fake news\", \"Propaganda\", \"Fact-checking\",\n",
    "    \"Journalism\", \"Freedom\", \"Discrimination\", \"Protests\", \"Strikes\", \"Labor unions\", \"Corporations\",\n",
    "    \"Big tech\", \"Economy\", \"Stock market\", \"Recession\", \"Surveillance\", \"Privacy\", \"Whistleblower\",\n",
    "    \"Military\", \"Defense spending\", \"Sexual harassment\", \"Critical race theory\", \"School choice\",\n",
    "    \"Standardized testing\", \"Cyberbullying\", \"AI ethics\", \"Facial recognition\", \"Climate crisis\",\n",
    "    \"Carbon emissions\", \"Nuclear weapons\", \"Genocide\", \"Refugees\", \"Asylum seekers\",\n",
    "    \"DACA\", \"Affordable housing\", \"Rent control\", \"Opioid crisis\", \"Marijuana legalization\",\n",
    "    \"Gerrymandering\", \"Campaign finance\", \"Lobbying\"\n",
    "]\n",
    "\n",
    "summary = []\n",
    "\n",
    "for i, topic in enumerate(topics):\n",
    "    try:\n",
    "        print(f\"Processing {i+1}/{len(topics)}: {topic}\")\n",
    "        real_title = wikipedia.search(topic)[0]\n",
    "        page = wikipedia.page(real_title, auto_suggest=False)\n",
    "        text = page.content[:10000]\n",
    "        sentences = sent_tokenize(text)\n",
    "\n",
    "        tox_scores, bias_scores, total_biased_words = [], [], 0\n",
    "\n",
    "        for sentence in sentences:\n",
    "            try:\n",
    "                tox = toxicity_classifier(sentence)[0]\n",
    "                bias = bias_classifier(sentence)[0]\n",
    "                doc = nlp(sentence)\n",
    "\n",
    "                cue_hits = [t.text.lower() for t in doc if t.text.lower() in combined_lexicon]\n",
    "                lexicon_hits = [w for w in sentence.lower().split() if w in biased_words_set]\n",
    "                all_hits = set(cue_hits + lexicon_hits)\n",
    "                total_biased_words += len(all_hits)\n",
    "\n",
    "                tox_scores.append(tox[\"score\"] if tox[\"label\"] == \"toxicity\" else 0)\n",
    "                bias_scores.append(bias[\"score\"])\n",
    "            except:\n",
    "                continue\n",
    "\n",
    "        if not bias_scores:\n",
    "            raise ValueError(\"No valid scores found.\")\n",
    "\n",
    "        avg_tox = round(sum(tox_scores) / len(tox_scores), 4)\n",
    "        avg_bias = round(sum(bias_scores) / len(bias_scores), 4)\n",
    "        is_biased = 1 if avg_bias > 0.65 or total_biased_words > 30 else 0\n",
    "\n",
    "        cleaned_doc = nlp(text)\n",
    "        cleaned_text = \" \".join([token.lemma_ for token in cleaned_doc if token.is_alpha and not token.is_stop])\n",
    "\n",
    "        summary.append({\n",
    "            \"article\": real_title,\n",
    "            \"article_text_cleaned\": cleaned_text,\n",
    "            \"avg_toxicity\": avg_tox,\n",
    "            \"avg_bias_score\": avg_bias,\n",
    "            \"total_biased_words\": total_biased_words,\n",
    "            \"is_biased\": is_biased\n",
    "        })\n",
    "\n",
    "    except (DisambiguationError, PageError, ValueError) as e:\n",
    "        print(f\"Skipped: {topic} — {str(e)[:80]}\")\n",
    "        continue\n",
    "\n",
    "df_summary = pd.DataFrame(summary)\n",
    "df_summary.to_csv(\"wikipedia_bias_with_text.csv\", index=False)\n",
    "print(\"✅ Saved: wikipedia_bias_with_text.csv\")"
   ]
  },
  {
   "cell_type": "markdown",
   "id": "73162b52",
   "metadata": {},
   "source": [
    "## Analyzing new CSV:"
   ]
  },
  {
   "cell_type": "code",
   "execution_count": 34,
   "id": "9f83404d",
   "metadata": {},
   "outputs": [],
   "source": [
    "dataset_path = os.path.join(os.pardir, 'scraped_data')\n",
    "\n",
    "wiki_model_df = pd.read_csv(os.path.join(dataset_path, 'wikipedia_bias_with_text.csv'))"
   ]
  },
  {
   "cell_type": "code",
   "execution_count": 35,
   "id": "0e73e819",
   "metadata": {},
   "outputs": [
    {
     "data": {
      "text/html": [
       "<div>\n",
       "<style scoped>\n",
       "    .dataframe tbody tr th:only-of-type {\n",
       "        vertical-align: middle;\n",
       "    }\n",
       "\n",
       "    .dataframe tbody tr th {\n",
       "        vertical-align: top;\n",
       "    }\n",
       "\n",
       "    .dataframe thead th {\n",
       "        text-align: right;\n",
       "    }\n",
       "</style>\n",
       "<table border=\"1\" class=\"dataframe\">\n",
       "  <thead>\n",
       "    <tr style=\"text-align: right;\">\n",
       "      <th></th>\n",
       "      <th>article</th>\n",
       "      <th>article_text_cleaned</th>\n",
       "      <th>avg_toxicity</th>\n",
       "      <th>avg_bias_score</th>\n",
       "      <th>total_biased_words</th>\n",
       "      <th>is_biased</th>\n",
       "    </tr>\n",
       "  </thead>\n",
       "  <tbody>\n",
       "    <tr>\n",
       "      <th>0</th>\n",
       "      <td>Politics</td>\n",
       "      <td>politic Ancient Greek πολιτικά politiká affair...</td>\n",
       "      <td>0.0014</td>\n",
       "      <td>0.7156</td>\n",
       "      <td>6</td>\n",
       "      <td>1</td>\n",
       "    </tr>\n",
       "    <tr>\n",
       "      <th>1</th>\n",
       "      <td>Abortion</td>\n",
       "      <td>abortion termination pregnancy removal expulsi...</td>\n",
       "      <td>0.0021</td>\n",
       "      <td>0.6680</td>\n",
       "      <td>5</td>\n",
       "      <td>1</td>\n",
       "    </tr>\n",
       "    <tr>\n",
       "      <th>2</th>\n",
       "      <td>Gun</td>\n",
       "      <td>gun device propel projectile pressure explosiv...</td>\n",
       "      <td>0.0011</td>\n",
       "      <td>0.6033</td>\n",
       "      <td>8</td>\n",
       "      <td>0</td>\n",
       "    </tr>\n",
       "  </tbody>\n",
       "</table>\n",
       "</div>"
      ],
      "text/plain": [
       "    article                               article_text_cleaned  avg_toxicity  \\\n",
       "0  Politics  politic Ancient Greek πολιτικά politiká affair...        0.0014   \n",
       "1  Abortion  abortion termination pregnancy removal expulsi...        0.0021   \n",
       "2       Gun  gun device propel projectile pressure explosiv...        0.0011   \n",
       "\n",
       "   avg_bias_score  total_biased_words  is_biased  \n",
       "0          0.7156                   6          1  \n",
       "1          0.6680                   5          1  \n",
       "2          0.6033                   8          0  "
      ]
     },
     "execution_count": 35,
     "metadata": {},
     "output_type": "execute_result"
    }
   ],
   "source": [
    "wiki_model_df.head(3)"
   ]
  },
  {
   "cell_type": "markdown",
   "id": "816be822",
   "metadata": {},
   "source": [
    "### Not biased example:"
   ]
  },
  {
   "cell_type": "code",
   "execution_count": 40,
   "id": "5006eaa8",
   "metadata": {},
   "outputs": [
    {
     "name": "stdout",
     "output_type": "stream",
     "text": [
      "--- Gun ---\n",
      "Bias Score: 0.6033\n",
      "Total Biased Words: 8\n",
      "Labeled as Biased: No\n",
      "\n",
      "gun device propel projectile pressure explosive force projectile typically solid pressurize liquid water gun orcannon gas light gas gun solid projectile free fly bullet artillery shell tethered taser speargun harpoon gun large caliber gun call cannon gun design weapon military use find use hunting gun toy gun water gun paintball gun etc purpose mean projectile propulsion vary accord design traditionally effect pneumatically high gas pressure contain barrel tube gun barrel produce rapid exothermic combustion propellant firearm mechanical compression air gun high pressure gas introduce projectile push accelerate length tube impart sufficient launch velocity sustain travel target propelling gas cease act exit muzzle alternatively new concept linear motor weapon employ electromagnetic field achieve acceleration case barrel substitute guide rail railguns wrap magnetic coil coilgun device identify gun proto gun appear China ad end century true gun metal barrel firearm fire single projectile occlude barrel Gunpowder gun technology spread Eurasia century etymology terminology origin english word gun consider derive give particular historical weapon Domina Gunilda give remarkably large ballista mechanical bolt throw weapon enormous size mount Windsor Castle century turn derive Old Norse woman proper Gunnhildr combine Norse word refer battle Gunnildr mean War sword shorten gunna early record use term gonne Latin document name gun era schioppi italian donrebusse dutch gun incorporate english language blunderbuss artilleryman refer gonner artiller Hand gun reference handle gun definition accord Merriam Webster dictionary gun mean piece ordnance usually high muzzle velocity comparatively flat trajectory portable firearm device throw projectile Gunpowder firearm historian Kenneth Chase define firearm gun firearm global history gunpowder weapon use explosive force gunpowder propel projectile tube cannon musket pistol typical example true gun accord Tonio Andrade historian gunpowder technology true gun define firearm shoot bullet fit barrel oppose shrapnel shoot fire lance fire lance appear century ad early metal barrel gunpowder weapon describe proto gun Joseph Needham define type firearm know eruptor describe cross fire lance gun proto gun reason define fully develop firearm true gun possess basic feature metal barrel gunpowder high nitrate content projectile occlude barrel true gun appear emerge late China year appearance fire lance term gun postdate invention firearm historian apply early firearm Heilongjiang hand cannon vase shape european cannon classic gun historian consider firearm reach form classic gun persist century classic form display long light efficient accurate design compare predecessor year prior classic design change little year cannon little difference surprising similarity cannon later year period classic gun dominate give moniker classic gun describe modern ordnance synthesis history Proto gun Gunpowder invent China century firearm fire lance invent China century depict silk painting date century textual evidence use appear describe siege consist bamboo tube gunpowder tie spear polearm late ingredient piece shrapnel like porcelain shard small iron pellet add tube blow gunpowder relatively short range range roughly meter early century fire lance consider historian proto gun projectile occlude barrel proto gun call eruptor accord Joseph Needham lance shoot projectile occlude barrel transition true gun course proportion saltpeter propellant increase maximise explosive power well withstand explosive power paper bamboo fire lance barrel originally come replace metal advantage power shrapnel come replace projectile size shape fill barrel closely fire lance barrel metal appear early pellet wad fill barrel record fire lance projectile make record bullet history basic feature gun place barrel metal high nitrate gunpowder projectile totally occlude muzzle powder charge exert potential propellant effect metal barrel fire lance begin lance gun late century gun hand cannon Yuan dynasty survive cannon Heilongjiang hand cannon Xanadu Gun find date late century possibly early early century Yuan dynasty deploy Jurchen troop hand cannon rebellion Mongol prince Nayan history Yuan record cannon Li Ting soldier cause great damage create confusion enemy soldier attack kill hand cannon beginning Li Ting gun soldier chongzu 銃卒 carry hand cannon back passage battle use chong 銃 metal radical jin 金 metal barrel firearm Chong instead early ambiguous term huo tong fire tube 火筒 refer tube fire lance proto cannon signal flare hand cannon Mongol invasion Japan japanese description invasion mention iron bamboo pao cause light fire emit iron bullet Nihon Kokujokushi write mention huo tong fire tube Battle Tsushima second coastal assault lead Holdon Hachiman Gudoukun mention iron pao cause flash light loud noise fire Taiheki mention iron pao shape like bell spread exact nature spread firearm route uncertain theory gunpowder cannon arrive Europe Silk Road Middle East Hasan al Rammah write fire lance century proto gun know Middle East point theory bring Europe Mongol invasion half century early depiction cannon Europe date evidence firearm production find following year record use gunpowder weapon Europe mount german knight attack Cividale del Friuli gunpowder weapon sort hand cannon widespread use France English Privy Wardrobe account list ribaldi type cannon siege gun English Calais early gun man associate devil gunner craft consider black art point reinforce smell sulfur battlefield create firing gun muzzle blast accompany flash late century Europe small portable hand hold cannon develop create effect smooth bore personal firearm late century Ottoman empire firearm regular infantry Middle East Arabs hand cannon degree century cannon attest India start Joseon kingdom Korea learn produce gunpowder f\n"
     ]
    }
   ],
   "source": [
    "article_name = \"Gun\" \n",
    "\n",
    "row = wiki_model_df[wiki_model_df[\"article\"] == article_name].iloc[0]\n",
    "\n",
    "print(f\"--- {row['article']} ---\")\n",
    "print(f\"Bias Score: {row['avg_bias_score']}\")\n",
    "print(f\"Total Biased Words: {row['total_biased_words']}\")\n",
    "print(f\"Labeled as Biased: {'Yes' if row['is_biased'] == 1 else 'No'}\\n\")\n",
    "print(row['article_text_cleaned'])"
   ]
  },
  {
   "cell_type": "markdown",
   "id": "ee1c3aab",
   "metadata": {},
   "source": [
    "The article \"Gun\" has a bias score of 0.6033 with 8 biased words detected. It was labeled as not biased.\n",
    "\n",
    "After reviewing the content manually, this label makes sense. The article is mostly technical and historical, focusing on how guns work, where they originated, and how they spread. It doesn’t try to persuade the reader or use emotionally charged language. Most of the language is factual, descriptive, and neutral.\n",
    "\n",
    "Even though the bias score is a bit over 0.6, it’s still under the 0.65 threshold I set for identifying bias. The low number of biased cue words supports this. Overall, the article reads like a neutral explanation of the subject.\n",
    "\n",
    "Because of that, I think the model made the right call marking this article as not biased."
   ]
  },
  {
   "cell_type": "markdown",
   "id": "a49827c6",
   "metadata": {},
   "source": [
    "### Biased example:"
   ]
  },
  {
   "cell_type": "code",
   "execution_count": 41,
   "id": "b08e8ded",
   "metadata": {},
   "outputs": [
    {
     "name": "stdout",
     "output_type": "stream",
     "text": [
      "--- Feminism ---\n",
      "Bias Score: 0.6959\n",
      "Total Biased Words: 6\n",
      "Labeled as Biased: Yes\n",
      "\n",
      "feminism range socio political movement ideology aim define establish political economic personal social equality sex Feminism hold position modern society patriarchal prioritize male point view woman treat unjustly society effort change include fight gender stereotype improve educational professional interpersonal opportunity outcome woman originate late century Europe feminist movement campaign continue campaign woman right include right vote run public office work earn equal pay property receive education enter contract equal right marriage maternity leave feminist work ensure access contraception legal abortion social integration protect woman girl sexual assault sexual harassment domestic violence change female dress standard acceptable physical activity woman feminist movement scholar consider feminist campaign main force major historical societal change woman right particularly West near universally credit achieve woman suffrage gender neutral language reproductive right woman include access contraceptive abortion right enter contract property feminist advocacy mainly focus woman right argue inclusion man liberation aim believe man harm traditional gender role feminist theory emerge feminist movement aim understand nature gender inequality examine woman social role live experience feminist theorist develop theory variety discipline order respond issue concern gender numerous feminist movement ideology develop year represent different viewpoint political aim traditionally century wave liberal feminism seek political legal equality reform liberal democratic framework contrast labour base proletarian woman movement time develop socialist marxist feminism base class struggle theory tradition contrast radical feminism arise radical wing second wave feminism call radical reordering society eliminate patriarchy liberal socialist radical feminism refer Big school feminist thought late century new form feminism emerge form white feminism gender critical feminism criticize take account white middle class college educate heterosexual cisgender perspective criticism lead creation ethnically specific multicultural form feminism black feminism intersectional feminism history terminology Mary Wollstonecraft see founder feminism book title vindication Rights Woman argue class private property basis discrimination woman woman man need equal right Charles Fourier utopian socialist french philosopher credit having coin word féminisme trace word find work word féminisme feminism appear France medicine thesis man suffer tuberculosis having develop accord author Ferdinand Valère Faneau de la Cour feminine trait word féministe feminist inspire medical use coin Alexandre Dumas fil essay refer man support woman right case use word negative reflect criticism call confusion sex woman refuse abide sexual division society challenge inequality sex concept appear Netherlands Great Britain United States Oxford English Dictionary date appearance English meaning depend historical moment culture country feminist world different cause goal western feminist historian contend movement work obtain woman right consider feminist movement apply term historian assert term limit modern feminist movement descendant historian use label protofeminist describe early movement wave history modern western feminist movement divide multiple wave comprise woman suffrage movement century promote woman right vote second wave woman liberation movement begin campaign legal social equality woman wave identify characterize focus individuality diversity additionally argue existence fourth wave start social medium combat sexual harassment violence woman rape culture well know movement early century wave feminism period activity century UK focus promotion equal contract marriage parenting property right woman new legislation include Custody Infants Act UK introduce tender year doctrine child custody give woman right custody child time legislation Married Women Property Act UK extend Act model similar legislation british territory Victoria pass legislation New South Wales remain australian colony pass similar legislation turn century activism focus primarily gain political power particularly right woman suffrage feminist active campaign woman sexual reproductive economic right woman suffrage right vote stand parliamentary office begin Britain australasian colony end century self govern colony New Zealand grant woman right vote South Australia follow suit Constitutional Amendment Adult Suffrage Act follow Australia grant female suffrage Britain suffragette suffragist campaign woman vote serve government increase military enlistment participate White Feather Campaign Representation People Act pass grant vote woman age own property extend woman Emmeline Pankhurst notable activist England Time name important People Century state shape idea woman time shake society new pattern go notable leader movement include Lucretia Mott Elizabeth Cady Stanton Susan Anthony campaign abolition slavery champion woman right vote woman influence Quaker theology spiritual equality assert man woman equal God influence early american feminist think leader Judith Sargent Murray John Neal Sarah Moore Grimké Margaret Fuller wave feminism consider end passage Nineteenth Amendment United States Constitution grant woman right vote state term wave coin retroactively term second wave feminism come use Germany feminist like Clara Zetkin interested woman politic include fight equal opportunity woman suffrage socialism help develop social democratic woman movement Germany edit SPD woman newspaper die Gleichheit Equality leader newly found Women Office SPD contribute International Women Day IWD late Qing period reform movement day reform chinese feminist call woman liberation traditional role neo confucian gender segregation later Chinese Communist Party create project aim integrate woman workforce claim revolution successfully achieve woman liberation accord Nawar al Hassan Golley arab feminism closely connect arab nationalism Qasim Amin consider father arab feminism write Liberation Women argue legal social reform woman draw link woman position egyptian society nationalism lead development Cairo University National Movement Hoda Shaarawi found Egyptian Feminist Union president symbol arab woman right movement Iranian Constitutional Revolution trig\n"
     ]
    }
   ],
   "source": [
    "article_name = \"Feminism\" \n",
    "\n",
    "row = wiki_model_df[wiki_model_df[\"article\"] == article_name].iloc[0]\n",
    "\n",
    "print(f\"--- {row['article']} ---\")\n",
    "print(f\"Bias Score: {row['avg_bias_score']}\")\n",
    "print(f\"Total Biased Words: {row['total_biased_words']}\")\n",
    "print(f\"Labeled as Biased: {'Yes' if row['is_biased'] == 1 else 'No'}\\n\")\n",
    "print(row['article_text_cleaned'])"
   ]
  },
  {
   "cell_type": "markdown",
   "id": "4a15df44",
   "metadata": {},
   "source": [
    "The article \"Feminism\" has a bias score of 0.6959 and a total of 6 biased words found. It was labeled as biased.\n",
    "\n",
    "Looking at the text, the article covers both the goals of feminism and the history of the movement, along with more opinionated topics like equality, patriarchy, and gender roles. While it stays informative, it includes ideas that are tied to ongoing social debates, so it makes sense that the score is slightly above the threshold.\n",
    "\n",
    "There weren’t a huge number of biased words detected, but the subject itself tends to include more perspective-driven language by nature. The score isn’t super high, but it's still strong enough to justify labeling it as biased. Based on how it’s written, I think the model made a fair call."
   ]
  },
  {
   "cell_type": "markdown",
   "id": "16e050c6",
   "metadata": {},
   "source": [
    "### Most biased example:"
   ]
  },
  {
   "cell_type": "code",
   "execution_count": 42,
   "id": "7a8a1471",
   "metadata": {},
   "outputs": [
    {
     "name": "stdout",
     "output_type": "stream",
     "text": [
      "--- Media bias ---\n",
      "Bias Score: 0.8714\n",
      "Total Biased Words: 11\n",
      "Labeled as Biased: Yes\n",
      "\n",
      "medium bias occur journalist news producer bias report cover news term medium bias imply pervasive widespread bias contravening standard journalism perspective individual journalist article direction degree medium bias country widely dispute practical limitation media neutrality include inability journalist report available story fact requirement select fact link coherent narrative government influence include overt covert censorship bias medium country example China North Korea Syria Myanmar politic medium bias interact medium ability influence politician politician power influence medium change distribution power society market force cause bias example include bias introduce ownership medium include concentration medium ownership subjective selection staff perceive preference intended audience assess possible bias aspect medium literacy study school journalism university department include medium study cultural study peace study focus political bias include international difference reporting bias reporting particular issue economic class environmental interest academic finding bias differ significantly public discourse understanding term type Oxford Handbook Political Communication Robert Lichter describe academic circle medium bias hypothesis explain pattern news coverage fully elaborate theory variety potentially overlap type bias propose remain widely debate propose hypothesis medium bias include advertising bias story select slant advertiser anti science bias story promote superstition non scientific idea concision bias tendency report view summarize succinctly crowd unconventional view time explain Content bias differential treatment party political conflict biased news present conflict corporate bias story select slant corporate owner medium Coverage bias medium choose report negative news party ideology decision make bias mean motivation frame mind belief journalist impact writing generally pejorative demand drive bias demographic bias factor gender race social economic status influence report factor different coverage demographic group Distortion bias fact reality distort fabricate news episodic framing television example lead people ascribe blame individual instead society contrast thematic framing lead people look societal cause false balance false equivalence occur issue present have equally compelling reason side despite disproportionate amount evidence favor know undue weight false timeliness imply event new event derive notability address past event kind gatekeepe bias know selectivity selection bias story select deselecte ideological ground spike refer agenda bias focus political actor cover base preferred policy issue Mainstream bias tendency report report avoid story offend type bias result homogenization information diminish diversity media content negatively impact medium consumption overall user experience negativity bias bad news bias tendency negative event portray politic debate policy zero sum struggle power excessive criticism negativity lead cynicism disengagement politic partisan bias tendency report serve particular political party lean sensationalism bias favor exceptional ordinary give impression rare event airplane crash common common event automobile crash hierarchy death miss white woman syndrome example phenomenon speculative content story focus occur primarily occur word like label article analysis opinion statement bias know tonality bias presentation bias medium coverage slant particular actor issue structural bias actor issue receive favorable coverage result newsworthiness medium routine result ideological decision incumbency bonus supply drive bias Tuchman Law suggest people overestimate risk danger disproportionately discuss medium Ventriloquism expert witness quote way intentionally voice author opinion ongoing unpublished research project name Media Bias Taxonomy attempt assess definition meaning medium bias ongoing attempt summarize domain distinct subcategorie linguistic bias encompass linguistic intergroup bias frame bias epistemological bias bias semantic property connotation bias text level context bias feature statement bias phrase bias spin bias reporting level context bias highlight selection bias coverage bias proximity bias cognitive bias selective exposure partisan bias relate concept like frame effect hate speech sentiment analysis group bias encompass gender bias racial bias religion bias author emphasize complex nature detect mitigate bias different medium content contexts history John Milton pamphlet Areopagitica Speech Liberty Unlicensed printing publication advocate freedom press century journalist begin recognize concept unbiased reporting integral journalistic ethic coincide rise journalism powerful social force today conscientiously objective journalist avoid accusation bias like newspaper broadcast medium radio television mechanism propaganda early day tendency pronounce initial ownership broadcast spectrum national government process medium deregulation place majority western broadcast medium private hand exist strong government presence monopoly broadcast medium country globe time concentration medium ownership private hand frequently comparatively small number individual lead accusation medium bias example accusation bias political tool result government censorship United States Congress pass Alien Sedition act prohibit newspaper publish false scandalous malicious writing government include public opposition law presidential act act effect American Civil War President Abraham Lincoln accuse newspaper border state bias favor southern cause order newspaper close antisemitic politician favor United States enter World War II Nazi assert international medium control Jews report german mistreatment Jews bias foundation Hollywood accuse jewish bias film Charlie Chaplin Great Dictator offer allege proof labor union movement civil right movement newspaper support liberal social reform accuse conservative newspaper communist bias Film television medium accuse bias favor mixing race television program racially mix cast Spy Star Trek air southern station war United States North Vietnam Vice President Spiro Agnew accuse newspaper anti american bias famous speech deliver San Diego call anti war protester nattering nabob negativism accusation bias political science writer Martin Gardner accuse entertainment medium anti science bias claim television program x files promote superstition contrast Competitive Enterprise Institute fund business accuse medium bias favor science business interest credulously report science show greenhouse gas cause global warming Structural non ideological bias accusation bias tend revolve ideological disagreement form bias cast structural nature little agreement operate originate involve economi\n"
     ]
    }
   ],
   "source": [
    "valid_rows = wiki_model_df[wiki_model_df[\"avg_bias_score\"] != \"ERROR\"]\n",
    "highest_bias_row = valid_rows.sort_values(\"avg_bias_score\", ascending=False).iloc[0]\n",
    "\n",
    "print(f\"--- {highest_bias_row['article']} ---\")\n",
    "print(f\"Bias Score: {highest_bias_row['avg_bias_score']}\")\n",
    "print(f\"Total Biased Words: {highest_bias_row['total_biased_words']}\")\n",
    "print(f\"Labeled as Biased: {'Yes' if highest_bias_row['is_biased'] == 1 else 'No'}\\n\")\n",
    "print(highest_bias_row['article_text_cleaned'])"
   ]
  },
  {
   "cell_type": "markdown",
   "id": "82cec8e1",
   "metadata": {},
   "source": [
    "The article \"Media bias\" got a bias score of 0.8714 and had 11 biased words detected. It was labeled as biased.\n",
    "\n",
    "After reading through it, I think that label is accurate. The article talks a lot about different forms of bias in journalism and gives examples from both history and modern times. It doesn’t just define media bias — it also talks about how governments, corporations, and even journalists themselves contribute to it. It covers controversial examples, like political censorship, ownership bias, and accusations of bias in TV and film.\n",
    "\n",
    "Even though it’s written to be informative, the way the content is framed makes it clear that the article leans toward showing media as a flawed or manipulative system. The score being that high makes sense. Overall, I think the model got it right marking this one as biased."
   ]
  },
  {
   "cell_type": "markdown",
   "id": "0bd67d53",
   "metadata": {},
   "source": [
    "### Most toxic example:"
   ]
  },
  {
   "cell_type": "code",
   "execution_count": 43,
   "id": "c01a2044",
   "metadata": {},
   "outputs": [
    {
     "name": "stdout",
     "output_type": "stream",
     "text": [
      "--- Cyberbullying ---\n",
      "Bias Score: 0.8549\n",
      "Total Biased Words: 30\n",
      "Avg Toxicity Score: 0.034\n",
      "Labeled as Biased: Yes\n",
      "\n",
      "cyberbullying cyberharassment online bullying form bullying harassment electronic mean increasingly common especially teenager adolescent young people increase use social medium related issue include online harassment trolling accord cyberbullye statistic Safe Foundation half adolescent teen bully online number engage cyberbullying bully victim negatively affect intensity duration frequency bullying aspect increase negative effect tactic harmful bullying behavior include post rumor threat sexual remark victim personal information hate speech bullying harassment identify repeat behavior intent harm tactic include create post fake profile create anonymity spread harmful message overview cyberbullying case extension exist traditional bullying student bully internet case bully traditional way physically verbally student bully exclusively internet cyber victim physically strong student cause bully prefer online confrontation face face contact school Awareness United States rise high profile case state country pass law combat cyberbullying design specifically target teen cyberbullying extend scope physical harassment case adult cyberharassment report usually file begin local police law differ area state Research demonstrate number consequence cyberbullye victimisation specific statistic negative effect cyberbullye differ country demographic researcher point way use modern computer technique determine stop cyberbullying research suggest uptick cyberbullye pandemic youth adult quarantine home consequence online pandemic example study adult publish Journal Social Psychology identify statistically significant increase pro cyberbullying attitude cyberbullye offend behavior study involve canadian youth grade find high rate cyberbullye involvement author speculate result close monitoring involvement online activity parent child home internet trolling common form bullying take place online community online gaming social medium order elicit reaction disruption simply personal amusement Cyberstalking form bullying harassment use electronic communication stalk victim pose credible threat victim negative interaction online social medium attribute cyberbullying research suggest interaction online result peer pressure negative positive neutral impact involve definition frequently definition cyberbullying aggressive intentional act behavior carry group individual electronic form contact repeatedly time victim easily defend distinguish normal conflict people comparable power status occur online variation definition National Crime Prevention Council specific definition process internet cell phone device send post text image intend hurt embarrass person cyberbullying similar traditional bullying notable distinction victim cyberbullying know identity bully bully target base online nature interaction harassment wide reach effect victim content harass victim spread share easily people remain accessible long initial incident term cyberharassment cyberbullying synonymously people use refer specifically harassment minor school setting cyberstalke Cyberstalking form online harassment perpetrator use electronic communication stalk victim consider dangerous form cyberbullying generally involve credible threat victim safety cyberstalker send repeat message intend threaten harass encourage explicitly impersonate victim ask contact combination method order stalk electronic mean include find victim location harass spam sextortion example situation occur Paris Deshaunte Evitt year old Tulsa cyberstalke partner news article state October continue October Evitt email Facebook text message control threaten victim abuse victim start year Evitt convict different occasion physically abuse victim include strangulation assault interfere reporting evitt state supervision time current offense unidentified victim explain Evitt destroy sense security emotional discuss Evitt statement dead happy state long away child time try heal life possible troll internet troll intentionally try provoke offend order elicit reaction troll cyberbullie goal troll engage cyberbullying engage comparatively harmless mischief troll disruptive amusement genuinely combative person trolling include insult false news terrorist threat hate raid Twitch livestreaming service hate raid situation stream raid viewer flood chat harassment hateful message prevent streamer execute stream viewer typically automate bot make difficult moderate block spam Spamming act create multiple account send message target en masse common situation spam occur breakup partner obsessive send ex message multiple platform happen despite block recipient article Police harass Texts state mind harassment kind illegal include person phone text message social medium method law place cyberbullye design protect public happening impersonation impersonation act pretend person offender pretend victim thing hurt victim reputation include hack Twitter account spread disinformation famous example Sony Music Twitter account hack post follow statement Britney Spears dead accident tell soon RIPBRITNEY spear fact alive doxxe Doxxing act disclose victim personal datum home address phone number doxxe happen fan fandom large fanbase far protect idol enter realm cyberbullying extreme fan k pop music genre dox fan rival music group specifically show incident fan group Blackpink doxxe owner Twice fan account send hospital allegedly Twice member disrespect Blackpink member sexual harassment online sexual harassment consider form cyberbullying Sextortion form sexual harassment act coerce person share intimate image threaten release money pay specific type blackmail line sexual harassment cyberbullying blur people blackmail classmate nude threaten release embarrassing information use revenge porn release nude payback case year old student West High School Chehalis exploit victim classmate own photo video victim Methods Research identify basic guideline help recognize deal regard abuse electronic communication cyberbullying involve repeat behavior intent harm cyberbullying perpetrate harassment cyberstalking denigration send\n"
     ]
    }
   ],
   "source": [
    "valid_rows = wiki_model_df[wiki_model_df[\"avg_toxicity\"] != \"ERROR\"]\n",
    "most_toxic_row = valid_rows.sort_values(\"avg_toxicity\", ascending=False).iloc[0]\n",
    "\n",
    "print(f\"--- {most_toxic_row['article']} ---\")\n",
    "print(f\"Bias Score: {most_toxic_row['avg_bias_score']}\")\n",
    "print(f\"Total Biased Words: {most_toxic_row['total_biased_words']}\")\n",
    "print(f\"Avg Toxicity Score: {most_toxic_row['avg_toxicity']}\")\n",
    "print(f\"Labeled as Biased: {'Yes' if most_toxic_row['is_biased'] == 1 else 'No'}\\n\")\n",
    "print(most_toxic_row['article_text_cleaned'])"
   ]
  },
  {
   "cell_type": "markdown",
   "id": "04eeaec1",
   "metadata": {},
   "source": [
    "The article \"Cyberbullying\" has the highest toxicity score in the dataset at 0.034, with a bias score of 0.8549 and 30 biased words detected. It was labeled as biased.\n",
    "\n",
    "This article talks about online harassment, especially in the context of teens and social media. It covers a lot of heavy examples like trolling, stalking, sextortion, and even death threats. The content focuses on how harmful cyberbullying can be and includes case studies, legal actions, and psychological impacts.\n",
    "\n",
    "Because the topic is emotional and covers serious personal harm, the language naturally gets stronger. That’s likely why the toxicity score came out so high, and why the bias score also ended up above the threshold. In this case, I think both labels are valid — the article is highly emotional and clearly leans toward exposing the dangers of online behavior, which is exactly what these metrics are picking up."
   ]
  },
  {
   "cell_type": "code",
   "execution_count": 45,
   "id": "227dabc1",
   "metadata": {},
   "outputs": [
    {
     "name": "stderr",
     "output_type": "stream",
     "text": [
      "/var/folders/c3/gd7dympn2rq3xs5m82fgbzz80000gn/T/ipykernel_83117/4055838146.py:14: FutureWarning: The default of observed=False is deprecated and will be changed to True in a future version of pandas. Pass observed=False to retain current behavior or observed=True to adopt the future default and silence this warning.\n",
      "  filtered_df.groupby(\"toxicity_bin\")[\"avg_bias_score\"].mean().plot(kind=\"bar\")\n"
     ]
    },
    {
     "data": {
      "image/png": "[encoded data removed]",
      "text/plain": [
       "<Figure size 1200x600 with 1 Axes>"
      ]
     },
     "metadata": {},
     "output_type": "display_data"
    }
   ],
   "source": [
    "import matplotlib.pyplot as plt\n",
    "import pandas as pd\n",
    "\n",
    "filtered_df = wiki_model_df[\n",
    "    (wiki_model_df[\"avg_toxicity\"] != \"ERROR\") & \n",
    "    (wiki_model_df[\"avg_bias_score\"] != \"ERROR\")\n",
    "].copy()\n",
    "\n",
    "filtered_df[\"avg_toxicity\"] = filtered_df[\"avg_toxicity\"].astype(float)\n",
    "filtered_df[\"avg_bias_score\"] = filtered_df[\"avg_bias_score\"].astype(float)\n",
    "filtered_df[\"toxicity_bin\"] = pd.cut(filtered_df[\"avg_toxicity\"], bins=10)\n",
    "\n",
    "plt.figure(figsize=(12, 6))\n",
    "filtered_df.groupby(\"toxicity_bin\")[\"avg_bias_score\"].mean().plot(kind=\"bar\")\n",
    "\n",
    "plt.xlabel(\"Toxicity Score Range\")\n",
    "plt.ylabel(\"Average Bias Score\")\n",
    "plt.title(\"Average Bias Score per Toxicity Bin\")\n",
    "plt.xticks(rotation=45)\n",
    "plt.tight_layout()\n",
    "plt.grid(True)\n",
    "plt.show()"
   ]
  },
  {
   "cell_type": "markdown",
   "id": "93afd747",
   "metadata": {},
   "source": [
    "This histogram shows how the average bias score changes depending on the toxicity level of an article. The x-axis represents bins of average toxicity scores, and the y-axis shows the average bias score for articles in each bin. As toxicity increases, the bias score generally increases too. Lower-toxicity articles tend to have bias scores between 0.7 and 0.8, while articles with the highest toxicity scores push bias scores past 0.83. This suggests a correlation: the more toxic the language in an article, the more likely it is to be biased. However, mid-range toxicity bins show some fluctuation, so the relationship isn’t perfectly linear."
   ]
  },
  {
   "cell_type": "code",
   "execution_count": 46,
   "id": "00e3cd0c",
   "metadata": {},
   "outputs": [
    {
     "name": "stderr",
     "output_type": "stream",
     "text": [
      "/var/folders/c3/gd7dympn2rq3xs5m82fgbzz80000gn/T/ipykernel_83117/2007844558.py:10: FutureWarning: The default of observed=False is deprecated and will be changed to True in a future version of pandas. Pass observed=False to retain current behavior or observed=True to adopt the future default and silence this warning.\n",
      "  bin_bias_scores = filtered_df.groupby(\"toxicity_bin\")[\"avg_bias_score\"].mean()\n"
     ]
    },
    {
     "data": {
      "image/png": "[encoded data removed]",
      "text/plain": [
       "<Figure size 1200x600 with 1 Axes>"
      ]
     },
     "metadata": {},
     "output_type": "display_data"
    }
   ],
   "source": [
    "filtered_df = wiki_model_df[\n",
    "    (wiki_model_df['avg_toxicity'] != \"ERROR\") &\n",
    "    (wiki_model_df['avg_bias_score'] != \"ERROR\")\n",
    "].copy()\n",
    "\n",
    "filtered_df[\"avg_toxicity\"] = filtered_df[\"avg_toxicity\"].astype(float)\n",
    "filtered_df[\"avg_bias_score\"] = filtered_df[\"avg_bias_score\"].astype(float)\n",
    "filtered_df[\"toxicity_bin\"] = pd.cut(filtered_df[\"avg_toxicity\"], bins=10)\n",
    "\n",
    "bin_bias_scores = filtered_df.groupby(\"toxicity_bin\")[\"avg_bias_score\"].mean()\n",
    "\n",
    "plt.figure(figsize=(12, 6))\n",
    "bin_bias_scores.plot(kind=\"bar\")\n",
    "plt.xlabel(\"Toxicity Score Range\")\n",
    "plt.ylabel(\"Average Bias Score\")\n",
    "plt.title(\"Average Bias Score per Toxicity Bin\")\n",
    "plt.xticks(rotation=45)\n",
    "plt.tight_layout()\n",
    "plt.show()"
   ]
  },
  {
   "cell_type": "markdown",
   "id": "71697210",
   "metadata": {},
   "source": [
    "This histogram shows the average bias score of Wikipedia articles grouped by their toxicity score ranges. Each bar represents a bin of toxicity scores, and the height of the bar shows the average bias score for articles that fall within that range.\n",
    "\n",
    "As toxicity increases, the average bias score tends to increase as well. Articles in the highest toxicity bin (around 0.034) have the highest average bias score, while those with the lowest toxicity scores have the lowest average bias. This suggests a general relationship where articles that are more toxic are also more biased on average, although the trend is not perfectly linear. Some mid-range toxicity bins also show high bias scores, indicating that bias can occur even when toxicity is moderate."
   ]
  },
  {
   "cell_type": "markdown",
   "id": "48183369",
   "metadata": {},
   "source": [
    "## Explaining how we just did everything:"
   ]
  },
  {
   "cell_type": "markdown",
   "id": "85e2c119",
   "metadata": {},
   "source": [
    "The CSV file was created through a multi-step process designed to analyze the bias and toxicity present in Wikipedia articles. The goal was to generate a dataset that could be used to train a model to identify whether an article is biased or not based on its content.\n",
    "\n",
    "**1. Article Selection**  \n",
    "We began by selecting around 100 Wikipedia topics related to social, political, and cultural issues. These included terms like \"Gun control\", \"Immigration\", \"Feminism\", \"Propaganda\", and many others that are frequently discussed in public discourse.\n",
    "\n",
    "**2. Article Retrieval**  \n",
    "For each topic, we used the `wikipedia` Python library to search for and retrieve the full content of the most relevant Wikipedia article. In cases where topics were too broad or caused errors (e.g., no article match, redirect loops, or indexing issues), the entry was marked with an error and excluded from analysis.\n",
    "\n",
    "**3. Text Preprocessing**  \n",
    "The text of each article was:\n",
    "- Tokenized into sentences.\n",
    "- Cleaned to remove special characters and extra spaces.\n",
    "- Lemmatized using SpaCy to normalize words for more accurate lexical matching and modeling.\n",
    "This cleaned and lemmatized version of the article text was stored in the `article_text_cleaned` column for use in model training.\n",
    "\n",
    "**4. Toxicity Scoring**  \n",
    "Each sentence of the article was passed through the `unitary/unbiased-toxic-roberta` model using Hugging Face’s `pipeline(\"text-classification\")`. This model assigned a toxicity score between 0 and 1. We then averaged these sentence-level scores to produce an `avg_toxicity` value for each article.\n",
    "\n",
    "**5. Bias Scoring**  \n",
    "Each sentence was also passed through the `newsmediabias/UnBIAS-classifier` model, another Hugging Face pipeline. This model returned a bias score, and we averaged these across the article to calculate the `avg_bias_score`.\n",
    "\n",
    "**6. Biased Word Detection**  \n",
    "We used two sources to detect biased language:\n",
    "- A custom phrase lexicon (containing terms like “clearly”, “reportedly”, etc.) categorized into linguistic cues like intensifiers, hedges, factive verbs, and implicatives.\n",
    "- The `mediabiasgroup/bias-lexicon` dataset from Hugging Face, which includes known biased words and phrases.\n",
    "Words in each article that matched any from these lexicons were counted and stored as `total_biased_words`.\n",
    "\n",
    "**7. Bias Labeling**  \n",
    "Each article was labeled with a binary column `is_biased`. A value of 1 (biased) was assigned if the `avg_bias_score` exceeded a threshold of 0.65. Otherwise, it was labeled 0 (not biased). This labeling allows the dataset to be used in supervised learning.\n",
    "\n",
    "**8. Final Dataset**  \n",
    "All the computed values—`article`, `article_text_cleaned`, `avg_toxicity`, `avg_bias_score`, `total_biased_words`, and `is_biased`—were compiled into a single DataFrame. This was saved as a CSV file for future model training and analysis.\n",
    "\n",
    "This dataset now allows us to explore the relationship between toxicity and bias, and to train classifiers that can generalize bias detection to new, unseen articles."
   ]
  },
  {
   "cell_type": "markdown",
   "id": "61e73420",
   "metadata": {},
   "source": [
    "## Modeling"
   ]
  },
  {
   "cell_type": "code",
   "execution_count": null,
   "id": "3c8449c5",
   "metadata": {},
   "outputs": [
    {
     "name": "stdout",
     "output_type": "stream",
     "text": [
      "--- Baracuda (band) ---\n",
      "Average Toxicity: 0.0162\n",
      "Average Bias Score: 0.531\n",
      "Total Biased Words: 1\n",
      "Labeled as Biased: No\n"
     ]
    }
   ],
   "source": [
    "import random\n",
    "\n",
    "search_terms = [\n",
    "    \"German rock bands\",\n",
    "    \"German electronic music groups\",\n",
    "    \"German metal bands\",\n",
    "    \"Bands from Berlin\",\n",
    "    \"Krautrock bands\",\n",
    "    \"Neue Deutsche Welle\"\n",
    "]\n",
    "\n",
    "random_term = random.choice(search_terms)\n",
    "search_results = wikipedia.search(random_term, results=10)\n",
    "random_article = random.choice(search_results)\n",
    "page = wikipedia.page(random_article)\n",
    "text = page.content\n",
    "\n",
    "sentences = sent_tokenize(text)\n",
    "tox_scores, bias_scores, total_biaseds_words = [], [], 0\n",
    "\n",
    "for sentence in sentences:\n",
    "    try:\n",
    "        tox = toxicity_classifier(sentence)[0]\n",
    "        bias = bias_classifier(sentence)[0]\n",
    "        doc = nlp(sentence)\n",
    "\n",
    "        cue_hits = [t.text.lower() for t in doc if t.text.lower() in combined_lexicon]\n",
    "        lexicon_hits = [w for w in sentence.lower().split() if w in biased_words_set]\n",
    "        all_hits = set(cue_hits + lexicon_hits)\n",
    "        total_biased_words += len(all_hits)\n",
    "\n",
    "        tox_scores.append(tox[\"score\"] if tox[\"label\"] == \"toxicity\" else 0)\n",
    "        bias_scores.append(bias[\"score\"])\n",
    "    except:\n",
    "        continue\n",
    "\n",
    "avg_tox = round(sum(tox_scores) / len(tox_scores), 4)\n",
    "avg_bias = round(sum(bias_scores) / len(bias_scores), 4)\n",
    "is_biased = 1 if avg_bias >= 0.65 else 0\n",
    "\n",
    "print(f\"--- {random_article} ---\")\n",
    "print(f\"Average Toxicity: {avg_tox}\")\n",
    "print(f\"Average Bias Score: {avg_bias}\")\n",
    "print(f\"Total Biased Words: {total_biased_words}\")\n",
    "print(f\"Labeled as Biased: {'Yes' if is_biased else 'No'}\")"
   ]
  },
  {
   "cell_type": "code",
   "execution_count": null,
   "id": "16542a66",
   "metadata": {},
   "outputs": [],
   "source": []
  }
 ],
 "metadata": {
  "kernelspec": {
   "display_name": "bias-venv",
   "language": "python",
   "name": "python3"
  },
  "language_info": {
   "codemirror_mode": {
    "name": "ipython",
    "version": 3
   },
   "file_extension": ".py",
   "mimetype": "text/x-python",
   "name": "python",
   "nbconvert_exporter": "python",
   "pygments_lexer": "ipython3",
   "version": "3.11.11"
  }
 },
 "nbformat": 4,
 "nbformat_minor": 5
}
